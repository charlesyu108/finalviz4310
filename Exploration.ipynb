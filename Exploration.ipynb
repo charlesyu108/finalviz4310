{
 "cells": [
  {
   "cell_type": "code",
   "execution_count": 1,
   "metadata": {},
   "outputs": [],
   "source": [
    "import seaborn as sns\n",
    "import matplotlib.pyplot as plt\n",
    "import pandas as pd\n",
    "import numpy as np\n",
    "\n",
    "from bs4 import BeautifulSoup"
   ]
  },
  {
   "cell_type": "code",
   "execution_count": 2,
   "metadata": {},
   "outputs": [],
   "source": [
    "with open(\"profiles.csv\") as f:\n",
    "    df = pd.read_csv(f)"
   ]
  },
  {
   "cell_type": "code",
   "execution_count": null,
   "metadata": {},
   "outputs": [],
   "source": [
    "df.columns"
   ]
  },
  {
   "cell_type": "code",
   "execution_count": null,
   "metadata": {},
   "outputs": [],
   "source": [
    "sns.countplot(df.age)"
   ]
  },
  {
   "cell_type": "code",
   "execution_count": null,
   "metadata": {},
   "outputs": [],
   "source": [
    "sns.distplot(df.age)"
   ]
  },
  {
   "cell_type": "code",
   "execution_count": null,
   "metadata": {},
   "outputs": [],
   "source": [
    "sns.countplot(y=df.body_type)"
   ]
  },
  {
   "cell_type": "code",
   "execution_count": null,
   "metadata": {},
   "outputs": [],
   "source": [
    "sns.countplot(df.sex)"
   ]
  },
  {
   "cell_type": "code",
   "execution_count": null,
   "metadata": {},
   "outputs": [],
   "source": [
    "sns.countplot(df.height)"
   ]
  },
  {
   "cell_type": "code",
   "execution_count": null,
   "metadata": {},
   "outputs": [],
   "source": [
    "sns.countplot(y=df.ethnicity)"
   ]
  },
  {
   "cell_type": "code",
   "execution_count": null,
   "metadata": {},
   "outputs": [],
   "source": [
    "df.ethnicity.value_counts().head()"
   ]
  },
  {
   "cell_type": "code",
   "execution_count": null,
   "metadata": {},
   "outputs": [],
   "source": [
    "df.ethnicity.value_counts().tail()"
   ]
  },
  {
   "cell_type": "code",
   "execution_count": null,
   "metadata": {},
   "outputs": [],
   "source": [
    "sns.countplot(y=df.diet)"
   ]
  },
  {
   "cell_type": "code",
   "execution_count": null,
   "metadata": {},
   "outputs": [],
   "source": [
    "sns.countplot(y=df.drinks)"
   ]
  },
  {
   "cell_type": "code",
   "execution_count": null,
   "metadata": {},
   "outputs": [],
   "source": [
    "sns.countplot(y=df.education)"
   ]
  },
  {
   "cell_type": "code",
   "execution_count": null,
   "metadata": {},
   "outputs": [],
   "source": [
    "sns.countplot(y=df.income)"
   ]
  },
  {
   "cell_type": "code",
   "execution_count": null,
   "metadata": {},
   "outputs": [],
   "source": [
    "sns.countplot(y=df.job)"
   ]
  },
  {
   "cell_type": "code",
   "execution_count": null,
   "metadata": {},
   "outputs": [],
   "source": [
    "sns.countplot(y=df.location)"
   ]
  },
  {
   "cell_type": "code",
   "execution_count": null,
   "metadata": {},
   "outputs": [],
   "source": [
    "df.location.value_counts().head()"
   ]
  },
  {
   "cell_type": "code",
   "execution_count": null,
   "metadata": {},
   "outputs": [],
   "source": [
    "df.location.value_counts().tail()"
   ]
  },
  {
   "cell_type": "code",
   "execution_count": null,
   "metadata": {},
   "outputs": [],
   "source": [
    "sns.countplot(y=df.offspring)"
   ]
  },
  {
   "cell_type": "code",
   "execution_count": null,
   "metadata": {},
   "outputs": [],
   "source": [
    "sns.countplot(y=df.orientation)"
   ]
  },
  {
   "cell_type": "code",
   "execution_count": null,
   "metadata": {},
   "outputs": [],
   "source": [
    "sns.countplot(y=df.pets)"
   ]
  },
  {
   "cell_type": "code",
   "execution_count": null,
   "metadata": {},
   "outputs": [],
   "source": [
    "sns.countplot(y=df.religion)"
   ]
  },
  {
   "cell_type": "code",
   "execution_count": null,
   "metadata": {},
   "outputs": [],
   "source": [
    "sns.countplot(y=df.sign)"
   ]
  },
  {
   "cell_type": "code",
   "execution_count": 3,
   "metadata": {},
   "outputs": [],
   "source": [
    "for i in range(10):\n",
    "    df[\"essay{}\".format(i)] = df[\"essay{}\".format(i)].apply(lambda x: str(x))"
   ]
  },
  {
   "cell_type": "code",
   "execution_count": 4,
   "metadata": {},
   "outputs": [],
   "source": [
    "from sklearn.feature_extraction.text import TfidfVectorizer"
   ]
  },
  {
   "cell_type": "code",
   "execution_count": 5,
   "metadata": {},
   "outputs": [],
   "source": [
    "def preprocessed(s):\n",
    "    return BeautifulSoup(s).get_text()\n",
    "    "
   ]
  },
  {
   "cell_type": "code",
   "execution_count": 6,
   "metadata": {},
   "outputs": [
    {
     "name": "stderr",
     "output_type": "stream",
     "text": [
      "/Library/Frameworks/Python.framework/Versions/3.5/lib/python3.5/site-packages/bs4/__init__.py:181: UserWarning: No parser was explicitly specified, so I'm using the best available HTML parser for this system (\"html5lib\"). This usually isn't a problem, but if you run this code on another system, or in a different virtual environment, it may use a different parser and behave differently.\n",
      "\n",
      "The code that caused this warning is on line 184 of the file /Library/Frameworks/Python.framework/Versions/3.5/lib/python3.5/runpy.py. To get rid of this warning, change code that looks like this:\n",
      "\n",
      " BeautifulSoup(YOUR_MARKUP})\n",
      "\n",
      "to this:\n",
      "\n",
      " BeautifulSoup(YOUR_MARKUP, \"html5lib\")\n",
      "\n",
      "  markup_type=markup_type))\n",
      "/Library/Frameworks/Python.framework/Versions/3.5/lib/python3.5/site-packages/bs4/__init__.py:282: UserWarning: \"http://www.youtube.com/watch?v=zcf46yhizso\" looks like a URL. Beautiful Soup is not an HTTP client. You should probably use an HTTP client like requests to get the document behind the URL, and feed that document to Beautiful Soup.\n",
      "  ' that document to Beautiful Soup.' % decoded_markup\n",
      "/Library/Frameworks/Python.framework/Versions/3.5/lib/python3.5/site-packages/bs4/__init__.py:282: UserWarning: \"http://www.youtube.com/watch?nr=1&amp;feature=endscreen&amp;v=amehf9iw55m\" looks like a URL. Beautiful Soup is not an HTTP client. You should probably use an HTTP client like requests to get the document behind the URL, and feed that document to Beautiful Soup.\n",
      "  ' that document to Beautiful Soup.' % decoded_markup\n",
      "/Library/Frameworks/Python.framework/Versions/3.5/lib/python3.5/site-packages/bs4/__init__.py:282: UserWarning: \"http://www.youtube.com/watch?v=ilwsp0m9g2u\" looks like a URL. Beautiful Soup is not an HTTP client. You should probably use an HTTP client like requests to get the document behind the URL, and feed that document to Beautiful Soup.\n",
      "  ' that document to Beautiful Soup.' % decoded_markup\n",
      "/Library/Frameworks/Python.framework/Versions/3.5/lib/python3.5/site-packages/bs4/__init__.py:219: UserWarning: \"b'.'\" looks like a filename, not markup. You should probably open this file and pass the filehandle into Beautiful Soup.\n",
      "  ' Beautiful Soup.' % markup)\n",
      "/Library/Frameworks/Python.framework/Versions/3.5/lib/python3.5/site-packages/bs4/__init__.py:282: UserWarning: \"http://www.sexanddesign.com\" looks like a URL. Beautiful Soup is not an HTTP client. You should probably use an HTTP client like requests to get the document behind the URL, and feed that document to Beautiful Soup.\n",
      "  ' that document to Beautiful Soup.' % decoded_markup\n",
      "/Library/Frameworks/Python.framework/Versions/3.5/lib/python3.5/site-packages/bs4/__init__.py:282: UserWarning: \"http://ilikeyoualittle.tumblr.com/\" looks like a URL. Beautiful Soup is not an HTTP client. You should probably use an HTTP client like requests to get the document behind the URL, and feed that document to Beautiful Soup.\n",
      "  ' that document to Beautiful Soup.' % decoded_markup\n",
      "/Library/Frameworks/Python.framework/Versions/3.5/lib/python3.5/site-packages/bs4/__init__.py:282: UserWarning: \"http://www.youtube.com/watch?v=zvlq3ev0ht4\" looks like a URL. Beautiful Soup is not an HTTP client. You should probably use an HTTP client like requests to get the document behind the URL, and feed that document to Beautiful Soup.\n",
      "  ' that document to Beautiful Soup.' % decoded_markup\n",
      "/Library/Frameworks/Python.framework/Versions/3.5/lib/python3.5/site-packages/bs4/__init__.py:219: UserWarning: \"b'/'\" looks like a filename, not markup. You should probably open this file and pass the filehandle into Beautiful Soup.\n",
      "  ' Beautiful Soup.' % markup)\n",
      "/Library/Frameworks/Python.framework/Versions/3.5/lib/python3.5/site-packages/bs4/__init__.py:282: UserWarning: \"http://tinyurl.com/6nmy79z\" looks like a URL. Beautiful Soup is not an HTTP client. You should probably use an HTTP client like requests to get the document behind the URL, and feed that document to Beautiful Soup.\n",
      "  ' that document to Beautiful Soup.' % decoded_markup\n",
      "/Library/Frameworks/Python.framework/Versions/3.5/lib/python3.5/site-packages/bs4/__init__.py:282: UserWarning: \"http://www.cleantechlawpartners.com/clp/logan_hollers.html\" looks like a URL. Beautiful Soup is not an HTTP client. You should probably use an HTTP client like requests to get the document behind the URL, and feed that document to Beautiful Soup.\n",
      "  ' that document to Beautiful Soup.' % decoded_markup\n",
      "/Library/Frameworks/Python.framework/Versions/3.5/lib/python3.5/site-packages/bs4/__init__.py:282: UserWarning: \"http://www.youtube.com/watch?v=yavnowc5ud0\" looks like a URL. Beautiful Soup is not an HTTP client. You should probably use an HTTP client like requests to get the document behind the URL, and feed that document to Beautiful Soup.\n",
      "  ' that document to Beautiful Soup.' % decoded_markup\n"
     ]
    },
    {
     "data": {
      "text/plain": [
       "['actually',\n",
       " 'ago',\n",
       " 'amazing',\n",
       " 'area',\n",
       " 'art',\n",
       " 'awesome',\n",
       " 'balance',\n",
       " 'bay',\n",
       " 'bay area',\n",
       " 'best',\n",
       " 'better',\n",
       " 'big',\n",
       " 'bike',\n",
       " 'bit',\n",
       " 'building',\n",
       " 'business',\n",
       " 'busy',\n",
       " 'care',\n",
       " 'career',\n",
       " 'change',\n",
       " 'city',\n",
       " 'college',\n",
       " 'come',\n",
       " 'community',\n",
       " 'company',\n",
       " 'cooking',\n",
       " 'cool',\n",
       " 'couple',\n",
       " 'creative',\n",
       " 'currently',\n",
       " 'currently working',\n",
       " 'dance',\n",
       " 'dancing',\n",
       " 'day',\n",
       " 'days',\n",
       " 'degree',\n",
       " 'design',\n",
       " 'designer',\n",
       " 'different',\n",
       " 'doing',\n",
       " 'don',\n",
       " 'dream',\n",
       " 'eating',\n",
       " 'education',\n",
       " 'engineer',\n",
       " 'enjoy',\n",
       " 'enjoying',\n",
       " 'experience',\n",
       " 'explore',\n",
       " 'exploring',\n",
       " 'family',\n",
       " 'far',\n",
       " 'feel',\n",
       " 'figure',\n",
       " 'finding',\n",
       " 'firm',\n",
       " 'food',\n",
       " 'francisco',\n",
       " 'free',\n",
       " 'free time',\n",
       " 'friends',\n",
       " 'fun',\n",
       " 'future',\n",
       " 'games',\n",
       " 'getting',\n",
       " 'going',\n",
       " 'good',\n",
       " 'got',\n",
       " 'grad',\n",
       " 'grad school',\n",
       " 'great',\n",
       " 'hanging',\n",
       " 'happy',\n",
       " 'hard',\n",
       " 'having',\n",
       " 'health',\n",
       " 'help',\n",
       " 'high',\n",
       " 'hiking',\n",
       " 'home',\n",
       " 'hope',\n",
       " 'im',\n",
       " 'important',\n",
       " 'industry',\n",
       " 'interesting',\n",
       " 'job',\n",
       " 'just',\n",
       " 'kids',\n",
       " 'know',\n",
       " 'law',\n",
       " 'learn',\n",
       " 'learning',\n",
       " 'life',\n",
       " 'like',\n",
       " 'little',\n",
       " 'live',\n",
       " 'living',\n",
       " 'll',\n",
       " 'long',\n",
       " 'looking',\n",
       " 'lot',\n",
       " 'lots',\n",
       " 'love',\n",
       " 'loving',\n",
       " 'make',\n",
       " 'making',\n",
       " 'manager',\n",
       " 'marketing',\n",
       " 'maybe',\n",
       " 'meet',\n",
       " 'moment',\n",
       " 'money',\n",
       " 'months',\n",
       " 'moved',\n",
       " 'music',\n",
       " 'nan',\n",
       " 'need',\n",
       " 'new',\n",
       " 'night',\n",
       " 'non',\n",
       " 'non profit',\n",
       " 'old',\n",
       " 'open',\n",
       " 'outside',\n",
       " 'passion',\n",
       " 'past',\n",
       " 'people',\n",
       " 'person',\n",
       " 'place',\n",
       " 'places',\n",
       " 'plan',\n",
       " 'planning',\n",
       " 'play',\n",
       " 'playing',\n",
       " 'possible',\n",
       " 'pretty',\n",
       " 'profit',\n",
       " 'projects',\n",
       " 'read',\n",
       " 'reading',\n",
       " 'real',\n",
       " 'really',\n",
       " 'recently',\n",
       " 'right',\n",
       " 'run',\n",
       " 'running',\n",
       " 'san',\n",
       " 'san francisco',\n",
       " 'say',\n",
       " 'school',\n",
       " 'science',\n",
       " 'sf',\n",
       " 'small',\n",
       " 'social',\n",
       " 'software',\n",
       " 'spend',\n",
       " 'spending',\n",
       " 'spending time',\n",
       " 'spent',\n",
       " 'start',\n",
       " 'started',\n",
       " 'starting',\n",
       " 'startup',\n",
       " 'student',\n",
       " 'studying',\n",
       " 'stuff',\n",
       " 'summer',\n",
       " 'sure',\n",
       " 'taking',\n",
       " 'teach',\n",
       " 'teaching',\n",
       " 'tech',\n",
       " 'thing',\n",
       " 'things',\n",
       " 'think',\n",
       " 'thinking',\n",
       " 'time',\n",
       " 'times',\n",
       " 'travel',\n",
       " 'traveling',\n",
       " 'try',\n",
       " 'trying',\n",
       " 'usually',\n",
       " 've',\n",
       " 'video',\n",
       " 'want',\n",
       " 'watching',\n",
       " 'way',\n",
       " 'week',\n",
       " 'weekends',\n",
       " 'wine',\n",
       " 'work',\n",
       " 'worked',\n",
       " 'working',\n",
       " 'world',\n",
       " 'write',\n",
       " 'writing',\n",
       " 'year',\n",
       " 'years',\n",
       " 'yoga']"
      ]
     },
     "execution_count": 6,
     "metadata": {},
     "output_type": "execute_result"
    }
   ],
   "source": [
    "# Essay0\n",
    "v0 = TfidfVectorizer(stop_words=\"english\", preprocessor = preprocessed, min_df=10, max_df = 0.95, max_features =200, ngram_range=(1,2))\n",
    "v0.fit(df[df.location == \"san francisco, california\"][\"essay1\"].values.astype('U'))\n",
    "v0.get_feature_names()"
   ]
  },
  {
   "cell_type": "code",
   "execution_count": null,
   "metadata": {},
   "outputs": [],
   "source": [
    "v0 = TfidfVectorizer(stop_words=\"english\", min_df=10, max_df = 0.95, max_features =200, ngram_range=(1,2))\n",
    "v0.fit(df[df.location == \"san francisco, california\"][\"essay0\"])\n",
    "v0.get_feature_names()"
   ]
  },
  {
   "cell_type": "code",
   "execution_count": 7,
   "metadata": {},
   "outputs": [],
   "source": [
    "with open(\"profiles_fixed3.csv\") as f:\n",
    "    df2 = pd.read_csv(f)"
   ]
  },
  {
   "cell_type": "code",
   "execution_count": 9,
   "metadata": {},
   "outputs": [
    {
     "data": {
      "text/plain": [
       "['active',\n",
       " 'actually',\n",
       " 'adventure',\n",
       " 'adventures',\n",
       " 'ago',\n",
       " 'amazing',\n",
       " 'amp',\n",
       " 'appreciate',\n",
       " 'area',\n",
       " 'art',\n",
       " 'ask',\n",
       " 'awesome',\n",
       " 'bay',\n",
       " 'bay area',\n",
       " 'beach',\n",
       " 'believe',\n",
       " 'best',\n",
       " 'better',\n",
       " 'big',\n",
       " 'bike',\n",
       " 'bit',\n",
       " 'born',\n",
       " 'california',\n",
       " 'care',\n",
       " 'city',\n",
       " 'coast',\n",
       " 'coffee',\n",
       " 'college',\n",
       " 'come',\n",
       " 'company',\n",
       " 'conversation',\n",
       " 'cook',\n",
       " 'cooking',\n",
       " 'cool',\n",
       " 'creative',\n",
       " 'currently',\n",
       " 'dance',\n",
       " 'dancing',\n",
       " 'dating',\n",
       " 'day',\n",
       " 'days',\n",
       " 'different',\n",
       " 'doesn',\n",
       " 'doing',\n",
       " 'don',\n",
       " 'east',\n",
       " 'easy',\n",
       " 'easy going',\n",
       " 'eat',\n",
       " 'enjoy',\n",
       " 'especially',\n",
       " 'explore',\n",
       " 'exploring',\n",
       " 'family',\n",
       " 'far',\n",
       " 'favorite',\n",
       " 'feel',\n",
       " 'food',\n",
       " 'francisco',\n",
       " 'free',\n",
       " 'friend',\n",
       " 'friends',\n",
       " 'fun',\n",
       " 'funny',\n",
       " 'games',\n",
       " 'getting',\n",
       " 'girl',\n",
       " 'going',\n",
       " 'good',\n",
       " 'got',\n",
       " 'great',\n",
       " 'grew',\n",
       " 'guy',\n",
       " 'happy',\n",
       " 'hard',\n",
       " 'having',\n",
       " 'heart',\n",
       " 'high',\n",
       " 'hiking',\n",
       " 'home',\n",
       " 'honest',\n",
       " 'humor',\n",
       " 'im',\n",
       " 'important',\n",
       " 'interested',\n",
       " 'interesting',\n",
       " 'job',\n",
       " 'just',\n",
       " 'kind',\n",
       " 'know',\n",
       " 'laid',\n",
       " 'laugh',\n",
       " 'learn',\n",
       " 'learning',\n",
       " 'let',\n",
       " 'life',\n",
       " 'like',\n",
       " 'little',\n",
       " 'live',\n",
       " 'lived',\n",
       " 'living',\n",
       " 'll',\n",
       " 'long',\n",
       " 'look',\n",
       " 'looking',\n",
       " 'lot',\n",
       " 'love',\n",
       " 'loving',\n",
       " 'make',\n",
       " 'makes',\n",
       " 'making',\n",
       " 'man',\n",
       " 'maybe',\n",
       " 'meet',\n",
       " 'meeting',\n",
       " 'mind',\n",
       " 'minded',\n",
       " 'moved',\n",
       " 'movies',\n",
       " 'music',\n",
       " 'nan',\n",
       " 'nature',\n",
       " 'need',\n",
       " 'new',\n",
       " 'new people',\n",
       " 'new things',\n",
       " 'nice',\n",
       " 'night',\n",
       " 'old',\n",
       " 'open',\n",
       " 'originally',\n",
       " 'outdoors',\n",
       " 'outside',\n",
       " 'passionate',\n",
       " 'people',\n",
       " 'person',\n",
       " 'place',\n",
       " 'places',\n",
       " 'play',\n",
       " 'playing',\n",
       " 'pretty',\n",
       " 'probably',\n",
       " 'profile',\n",
       " 'quite',\n",
       " 'raised',\n",
       " 'read',\n",
       " 'reading',\n",
       " 'real',\n",
       " 'really',\n",
       " 'recently',\n",
       " 'relationship',\n",
       " 'right',\n",
       " 'running',\n",
       " 'san',\n",
       " 'san francisco',\n",
       " 'say',\n",
       " 'school',\n",
       " 'self',\n",
       " 'sense',\n",
       " 'sense humor',\n",
       " 'seriously',\n",
       " 'sf',\n",
       " 'share',\n",
       " 'small',\n",
       " 'smart',\n",
       " 'social',\n",
       " 'spend',\n",
       " 'spent',\n",
       " 'sports',\n",
       " 'start',\n",
       " 'stuff',\n",
       " 'sure',\n",
       " 'taking',\n",
       " 'talk',\n",
       " 'tell',\n",
       " 'tend',\n",
       " 'thing',\n",
       " 'things',\n",
       " 'think',\n",
       " 'time',\n",
       " 'times',\n",
       " 'travel',\n",
       " 'traveling',\n",
       " 'try',\n",
       " 'trying',\n",
       " 'usually',\n",
       " 've',\n",
       " 'want',\n",
       " 'watch',\n",
       " 'watching',\n",
       " 'way',\n",
       " 'went',\n",
       " 'wine',\n",
       " 'work',\n",
       " 'working',\n",
       " 'world',\n",
       " 'write',\n",
       " 'writing',\n",
       " 'year',\n",
       " 'years']"
      ]
     },
     "execution_count": 9,
     "metadata": {},
     "output_type": "execute_result"
    }
   ],
   "source": [
    "for i in range(10):\n",
    "    df2[\"essay{}\".format(i)] = df2[\"essay{}\".format(i)].apply(lambda x: str(x))\n",
    "\n",
    "v2 = TfidfVectorizer(stop_words=\"english\", min_df=10, max_df = 0.95, max_features =200, ngram_range=(1,2))\n",
    "v2.fit(df2[df2.location == \"san francisco, california\"][\"essay0\"])\n",
    "v2.get_feature_names()"
   ]
  },
  {
   "cell_type": "code",
   "execution_count": null,
   "metadata": {},
   "outputs": [],
   "source": []
  }
 ],
 "metadata": {
  "kernelspec": {
   "display_name": "Python 3",
   "language": "python",
   "name": "python3"
  },
  "language_info": {
   "codemirror_mode": {
    "name": "ipython",
    "version": 3
   },
   "file_extension": ".py",
   "mimetype": "text/x-python",
   "name": "python",
   "nbconvert_exporter": "python",
   "pygments_lexer": "ipython3",
   "version": "3.5.2"
  }
 },
 "nbformat": 4,
 "nbformat_minor": 2
}
